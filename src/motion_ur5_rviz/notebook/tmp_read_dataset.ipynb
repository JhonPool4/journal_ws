{
 "cells": [
  {
   "cell_type": "code",
   "execution_count": 1,
   "id": "flush-buying",
   "metadata": {},
   "outputs": [],
   "source": [
    "import pandas as pd\n",
    "import numpy as np\n",
    "import os\n",
    "import matplotlib.pyplot as plt\n",
    "from copy import copy\n",
    "from labpythonlib.lab_functions import *\n",
    "from tqdm import tqdm\n",
    "\n",
    "\n",
    "import sys\n",
    "sys.path.insert(1, '/home/emanuelsamir/Documentos/dev/concytec/journal_ws/src/motion_ur5_rviz/src/utils')\n",
    "from datareader import DataReader"
   ]
  },
  {
   "cell_type": "code",
   "execution_count": 8,
   "id": "74741df5",
   "metadata": {},
   "outputs": [],
   "source": [
    "fns = ['Knot_Tying_D001.txt','Knot_Tying_D002.txt','Knot_Tying_D003.txt','Knot_Tying_D004.txt','Knot_Tying_D005.txt','Knot_Tying_E001.txt','Knot_Tying_E002.txt','Knot_Tying_E003.txt','Knot_Tying_E004.txt','Knot_Tying_E005.txt','Needle_Passing_D001.txt','Needle_Passing_D002.txt','Needle_Passing_D003.txt','Needle_Passing_D004.txt','Needle_Passing_D005.txt','Needle_Passing_E001.txt','Needle_Passing_E002.txt','Needle_Passing_E003.txt','Needle_Passing_E004.txt','Needle_Passing_E005.txt','Suturing_D001.txt','Suturing_D002.txt','Suturing_D003.txt','Suturing_D004.txt','Suturing_D005.txt','Suturing_E001.txt','Suturing_E002.txt','Suturing_E003.txt','Suturing_E004.txt','Suturing_E005.txt']"
   ]
  },
  {
   "cell_type": "code",
   "execution_count": 9,
   "id": "c9a21607",
   "metadata": {},
   "outputs": [
    {
     "name": "stderr",
     "output_type": "stream",
     "text": [
      "100%|██████████| 60/60 [09:01<00:00,  9.03s/it]\n"
     ]
    }
   ],
   "source": [
    "arms = [True,False]\n",
    "pbar = tqdm(total=len(fns)*2)\n",
    "\n",
    "dscores = {}\n",
    "\n",
    "for fn in fns:\n",
    "    for arm in arms:\n",
    "        folder = \"../assets/dataset/\"\n",
    "        path = os.path.join(folder, fn)\n",
    "        dr = DataReader(path)\n",
    "        dr.read_dataset(arm)\n",
    "        dr.calculate()\n",
    "\n",
    "        tmp_urdf_path = \"/home/emanuelsamir/Documentos/dev/concytec/journal_ws/src/ur5_description/urdf/ur5_uncertainty_0.urdf\"\n",
    "        dt = 0.01\n",
    "        robot_tmp = Robot(np.zeros(6), np.zeros(6), dt, tmp_urdf_path)\n",
    "\n",
    "        x0, _,_,_ = dr.dataset_trajectory_generator()\n",
    "        p0 = x0[0:3]\n",
    "        rpy0 = x0[3:6]\n",
    "\n",
    "        q_des= robot_tmp.inverse_kinematics_pose(p0, rpy2rot(rpy0), np.zeros(6), max_iter = 1000) \n",
    "        q_des = np.arctan2(np.sin(q_des), np.cos(q_des))#q_des = np.clip(q_des, a_min=-np.pi, a_max = np.pi)\n",
    "\n",
    "        qs = []\n",
    "\n",
    "        while True:\n",
    "            x_des, dx_des, ddx_des, dddx_des = dr.dataset_trajectory_generator()\n",
    "            p_des = x_des[0:3]\n",
    "            rpy_des = x_des[3:6]\n",
    "\n",
    "            q = robot_tmp.inverse_kinematics_pose(p_des, rpy2rot(rpy_des), q_des)\n",
    "            qs.append(q)\n",
    "            if dr.check():\n",
    "                break \n",
    "            q_des = q\n",
    "        qs_ar = np.array(qs)\n",
    "        pbar.update(1)\n",
    "\n",
    "        if np.max(qs_ar) < np.pi and np.min(qs_ar) > -np.pi:\n",
    "            name = 'file {} arm {}'.format(fn, 'r' if arm else 'l')\n",
    "            score = np.mean([np.pi - np.max(qs_ar), np.pi + np.min(qs_ar) ])\n",
    "            dscores[name] = score\n",
    "\n",
    "pbar.close()"
   ]
  },
  {
   "cell_type": "code",
   "execution_count": 7,
   "id": "8163c046",
   "metadata": {},
   "outputs": [
    {
     "name": "stdout",
     "output_type": "stream",
     "text": [
      "[('file Knot_Tying_E001.txt arm r', 0.1997178283127765), ('file Needle_Passing_E004.txt arm l', 0.31442422649038027), ('file Knot_Tying_D003.txt arm l', 0.3162118185579512), ('file Suturing_E004.txt arm r', 0.3261896858179627), ('file Knot_Tying_E003.txt arm r', 0.385570999034367), ('file Suturing_E005.txt arm r', 0.45083115345879654), ('file Knot_Tying_E002.txt arm l', 0.5536733973592689), ('file Knot_Tying_D001.txt arm l', 0.6464879566011885), ('file Needle_Passing_E002.txt arm l', 0.6950999912380562), ('file Knot_Tying_E005.txt arm l', 0.7387523430119407), ('file Knot_Tying_D003.txt arm r', 0.7425371592375132), ('file Knot_Tying_D002.txt arm l', 0.7675061186538925)]\n"
     ]
    }
   ],
   "source": [
    "import operator\n",
    "sorted_x = sorted(dscores.items(), key=operator.itemgetter(1))\n",
    "print(sorted_x)"
   ]
  },
  {
   "cell_type": "code",
   "execution_count": 6,
   "id": "2cc3615f",
   "metadata": {},
   "outputs": [
    {
     "data": {
      "text/plain": [
       "[('file Knot_Tying_D001.txt arm l', 0.7379998121805957),\n",
       " ('file Knot_Tying_D002.txt arm l', 0.48706938835816826),\n",
       " ('file Knot_Tying_D002.txt arm r', 0.23171329482667513),\n",
       " ('file Knot_Tying_D003.txt arm l', 0.3883294562379771),\n",
       " ('file Knot_Tying_D003.txt arm r', 0.3842611100576778),\n",
       " ('file Knot_Tying_D004.txt arm r', 1.1231724805685528),\n",
       " ('file Knot_Tying_D005.txt arm l', 0.7423733582672545),\n",
       " ('file Knot_Tying_E001.txt arm l', 0.10484600339984396),\n",
       " ('file Knot_Tying_E002.txt arm r', 0.6116607544616999),\n",
       " ('file Knot_Tying_E004.txt arm l', 0.344820567481847),\n",
       " ('file Knot_Tying_E004.txt arm r', 0.6342137650208912),\n",
       " ('file Knot_Tying_E005.txt arm l', 0.31790024519795157),\n",
       " ('file Knot_Tying_E005.txt arm r', 1.0149287145583408),\n",
       " ('file Needle_Passing_D001.txt arm l', 1.4444813142015274),\n",
       " ('file Needle_Passing_D003.txt arm l', 1.4249336430369466),\n",
       " ('file Needle_Passing_D004.txt arm l', 1.2152288414553292),\n",
       " ('file Needle_Passing_D005.txt arm l', 0.3607657550619705),\n",
       " ('file Needle_Passing_E005.txt arm l', 1.2145959191223064),\n",
       " ('file Suturing_D001.txt arm l', 1.295853037944102),\n",
       " ('file Suturing_D002.txt arm l', 0.43450313491553527),\n",
       " ('file Suturing_D002.txt arm r', 0.8098340377427028),\n",
       " ('file Suturing_D003.txt arm l', 1.365016718783426),\n",
       " ('file Suturing_D004.txt arm l', 1.4408438751062056),\n",
       " ('file Suturing_D005.txt arm l', 1.4184721179107653),\n",
       " ('file Suturing_E001.txt arm l', 1.334245953544769),\n",
       " ('file Suturing_E002.txt arm l', 1.335637345062232),\n",
       " ('file Suturing_E002.txt arm r', 0.3289004640881852),\n",
       " ('file Suturing_E003.txt arm l', 1.2149091252516975),\n",
       " ('file Suturing_E004.txt arm r', 0.16413026825977406),\n",
       " ('file Suturing_E005.txt arm l', 1.2347690091538925)]"
      ]
     },
     "execution_count": 6,
     "metadata": {},
     "output_type": "execute_result"
    }
   ],
   "source": [
    "sorted(dscores.items())"
   ]
  }
 ],
 "metadata": {
  "interpreter": {
   "hash": "767d51c1340bd893661ea55ea3124f6de3c7a262a8b4abca0554b478b1e2ff90"
  },
  "kernelspec": {
   "display_name": "Python 2",
   "language": "python",
   "name": "python3"
  },
  "language_info": {
   "codemirror_mode": {
    "name": "ipython",
    "version": 2
   },
   "file_extension": ".py",
   "mimetype": "text/x-python",
   "name": "python",
   "nbconvert_exporter": "python",
   "pygments_lexer": "ipython2",
   "version": "2.7.17"
  }
 },
 "nbformat": 4,
 "nbformat_minor": 5
}
