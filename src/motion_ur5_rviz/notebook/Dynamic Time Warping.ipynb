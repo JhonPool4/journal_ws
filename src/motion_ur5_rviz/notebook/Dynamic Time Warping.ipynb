{
 "cells": [
  {
   "cell_type": "code",
   "execution_count": 1,
   "id": "proprietary-screening",
   "metadata": {},
   "outputs": [
    {
     "name": "stdout",
     "output_type": "stream",
     "text": [
      "Importing the dtw module. When using in academic works please cite:\n",
      "  T. Giorgino. Computing and Visualizing Dynamic Time Warping Alignments in R: The dtw Package.\n",
      "  J. Stat. Soft., doi:10.18637/jss.v031.i07.\n",
      "\n"
     ]
    }
   ],
   "source": [
    "import numpy as np \n",
    "from dtw import *\n",
    "import pandas as pd\n",
    "import os\n",
    "import matplotlib.pyplot as plt"
   ]
  },
  {
   "cell_type": "code",
   "execution_count": 2,
   "id": "tamil-overhead",
   "metadata": {},
   "outputs": [],
   "source": [
    "fns =   ['cartesian_L_5_K_1_alpha_0.001_beta_0.1_gamma_0.9_delta_100_t_50.csv',\n",
    "        'cartesian_L_5_K_1_alpha_0.000398107171_beta_0.1_gamma_0.9_delta_100_t_50.csv',\n",
    "        'cartesian_L_5_K_1_alpha_0.000158489319_beta_0.1_gamma_0.9_delta_100_t_50.csv',\n",
    "        'cartesian_L_5_K_1_alpha_6.30957344e-05_beta_0.1_gamma_0.9_delta_100_t_50.csv',\n",
    "        'cartesian_L_5_K_1_alpha_2.51188643e-05_beta_0.1_gamma_0.9_delta_100_t_50.csv',\n",
    "        'cartesian_L_5_K_1_alpha_1e-05_beta_0.1_gamma_0.9_delta_100_t_50.csv']\n",
    "\n",
    "folder = '../experiments/exp1/data/SMC/circular'"
   ]
  },
  {
   "cell_type": "code",
   "execution_count": 3,
   "id": "f5248e1f",
   "metadata": {},
   "outputs": [],
   "source": [
    "error_acc = []\n",
    "dwt_acc = []\n",
    "alpha_space = np.logspace(-5, -3, 6)"
   ]
  },
  {
   "cell_type": "code",
   "execution_count": null,
   "id": "violent-science",
   "metadata": {},
   "outputs": [],
   "source": []
  },
  {
   "cell_type": "code",
   "execution_count": null,
   "id": "falling-services",
   "metadata": {},
   "outputs": [],
   "source": []
  },
  {
   "cell_type": "code",
   "execution_count": null,
   "id": "2ad56ff8",
   "metadata": {},
   "outputs": [],
   "source": [
    "for fn in fns:\n",
    "    path = os.path.join(folder, fn)\n",
    "    df= pd.read_csv(path)\n",
    "    e = np.linalg.norm(df['x_med'].to_numpy() -df['x_ref'].to_numpy())\n",
    "    alignment = dtw(df['x_med'].to_numpy(), df['x_ref'].to_numpy(), keep_internals=True)\n",
    "    dwt = alignment.distance\n",
    "    error_acc.append(e)\n",
    "    dwt_acc.append(dwt_acc)"
   ]
  },
  {
   "cell_type": "code",
   "execution_count": null,
   "id": "effective-illness",
   "metadata": {},
   "outputs": [],
   "source": [
    "dwt_acc"
   ]
  },
  {
   "cell_type": "code",
   "execution_count": null,
   "id": "separated-private",
   "metadata": {},
   "outputs": [],
   "source": [
    "plt.plot(alpha_space, dwt_acc)\n",
    "plt.xscale('log')"
   ]
  },
  {
   "cell_type": "code",
   "execution_count": null,
   "id": "dutch-mercy",
   "metadata": {},
   "outputs": [],
   "source": [
    "folder = '../data/SMCi/circular_traj'\n",
    "fn = \"cartesian_L_5_K_1_alpha_0.0_beta_0.1_gamma_0.9_delta_0.1_t_30_uncertainty_1.0.csv\"\n",
    "path = os.path.join(folder, fn)\n",
    "df= pd.read_csv(path)\n"
   ]
  },
  {
   "cell_type": "code",
   "execution_count": null,
   "id": "together-second",
   "metadata": {},
   "outputs": [],
   "source": [
    "df.head()\n"
   ]
  },
  {
   "cell_type": "code",
   "execution_count": 25,
   "id": "literary-channels",
   "metadata": {},
   "outputs": [
    {
     "name": "stdout",
     "output_type": "stream",
     "text": [
      "16.89567668481146\n"
     ]
    }
   ],
   "source": [
    "alignment = dtw(df['x_med'].to_numpy(), df['x_ref'].to_numpy(), keep_internals=True)\n",
    "print(alignment.distance)\n"
   ]
  },
  {
   "cell_type": "code",
   "execution_count": 27,
   "id": "stylish-diary",
   "metadata": {},
   "outputs": [
    {
     "data": {
      "text/plain": [
       "(5001,)"
      ]
     },
     "execution_count": 27,
     "metadata": {},
     "output_type": "execute_result"
    }
   ],
   "source": [
    "df['x_med'].to_numpy().shape"
   ]
  },
  {
   "cell_type": "code",
   "execution_count": null,
   "id": "spatial-homework",
   "metadata": {},
   "outputs": [],
   "source": []
  },
  {
   "cell_type": "code",
   "execution_count": null,
   "id": "broken-program",
   "metadata": {},
   "outputs": [],
   "source": [
    "alignment.plot(type=\"threeway\")"
   ]
  },
  {
   "cell_type": "code",
   "execution_count": null,
   "id": "stuck-thumbnail",
   "metadata": {},
   "outputs": [],
   "source": [
    "|[2][3][2][0]\n",
    "|[1][3][0][3]\n",
    "|[1][2][1][3]\n",
    "|[0][3][1][3]\n",
    "------------\n",
    "\n",
    "\n"
   ]
  },
  {
   "cell_type": "code",
   "execution_count": null,
   "id": "acting-present",
   "metadata": {},
   "outputs": [],
   "source": [
    "dtw(df['x_med'].to_numpy(), df['x_ref'].to_numpy(), keep_internals=True, \n",
    "    step_pattern=rabinerJuangStepPattern(6, \"c\"))\\\n",
    "    .plot(type=\"twoway\",offset=-2)"
   ]
  },
  {
   "cell_type": "code",
   "execution_count": null,
   "id": "gentle-occasion",
   "metadata": {},
   "outputs": [],
   "source": []
  },
  {
   "cell_type": "code",
   "execution_count": null,
   "id": "forward-cargo",
   "metadata": {},
   "outputs": [],
   "source": []
  },
  {
   "cell_type": "code",
   "execution_count": null,
   "id": "anonymous-malpractice",
   "metadata": {},
   "outputs": [],
   "source": []
  }
 ],
 "metadata": {
  "kernelspec": {
   "display_name": "Python 3",
   "language": "python",
   "name": "python3"
  },
  "language_info": {
   "codemirror_mode": {
    "name": "ipython",
    "version": 3
   },
   "file_extension": ".py",
   "mimetype": "text/x-python",
   "name": "python",
   "nbconvert_exporter": "python",
   "pygments_lexer": "ipython3",
   "version": "3.7.5"
  }
 },
 "nbformat": 4,
 "nbformat_minor": 5
}
